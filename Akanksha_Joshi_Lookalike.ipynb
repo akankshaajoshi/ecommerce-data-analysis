{
  "nbformat": 4,
  "nbformat_minor": 0,
  "metadata": {
    "colab": {
      "provenance": []
    },
    "kernelspec": {
      "name": "python3",
      "display_name": "Python 3"
    },
    "language_info": {
      "name": "python"
    }
  },
  "cells": [
    {
      "cell_type": "markdown",
      "source": [
        "# **Lookalike Model**\n",
        "\n",
        "Build a Lookalike Model that takes a user's information as input and recommends 3 similar customers based on their profile and transaction history. The model should: Use both customer and product information, and Assign a similarity score to each recommended customer.\n",
        "\n"
      ],
      "metadata": {
        "id": "AVOaaUULAs_P"
      }
    },
    {
      "cell_type": "markdown",
      "source": [
        "### **Technique:**\n",
        "\n",
        "Some of the potential modelling techniques we could use are: K-Means Clustering, Hierarchical Clustering, Collaborative Filtering: Support Vector Decomposition, Graph Neural Network, Similarity Based Lookalike Model, etc. Here, we would prefer the use of Similarity-Based Lookalike Model for the following reasons:\n",
        "1. Models patterns based on the feature values.\n",
        "2. It doesn't require labelled data, i.e. it is an unsupervised learning algorithm.\n",
        "3. Uses similarity measure such as a simple cosine similarity in our case to compare customer vectors. Cosine similarity is based on the direction of feature vectors rather than their magnitude: in our case we want to get users with similar spending pattern which is based on behavioural attributes thus making it the best choice at hand."
      ],
      "metadata": {
        "id": "gLQYPcOJtkkJ"
      }
    },
    {
      "cell_type": "code",
      "source": [
        "from google.colab import drive\n",
        "drive.mount('/content/drive')"
      ],
      "metadata": {
        "colab": {
          "base_uri": "https://localhost:8080/"
        },
        "id": "3b-pBjEfwuwB",
        "outputId": "5ee2cc39-48cb-4f93-8fd6-032eb7b20a1e"
      },
      "execution_count": null,
      "outputs": [
        {
          "output_type": "stream",
          "name": "stdout",
          "text": [
            "Mounted at /content/drive\n"
          ]
        }
      ]
    },
    {
      "cell_type": "code",
      "source": [
        "customers = pd.read_csv('drive/MyDrive/Zeotap Assignment/Data/Customers.csv')\n",
        "transactions = pd.read_csv('drive/MyDrive/Zeotap Assignment/Data/Transactions.csv')\n",
        "products = pd.read_csv('drive/MyDrive/Zeotap Assignment/Data/Products.csv')"
      ],
      "metadata": {
        "id": "6je4kAxO1XH0"
      },
      "execution_count": null,
      "outputs": []
    },
    {
      "cell_type": "code",
      "source": [
        "import pandas as pd\n",
        "from sklearn.preprocessing import StandardScaler, OneHotEncoder, MinMaxScaler\n",
        "from sklearn.metrics.pairwise import cosine_similarity\n",
        "from sklearn.compose import ColumnTransformer\n",
        "from sklearn.pipeline import Pipeline\n",
        "\n",
        "transactions = pd.merge(\n",
        "    transactions,\n",
        "    products[['ProductID', 'ProductName', 'Category', 'Price']],\n",
        "    on='ProductID',\n",
        "    how='left',\n",
        "    suffixes=('_transaction', '_product')\n",
        ")\n",
        "\n",
        "transactions = transactions.drop(columns=['Price_transaction'])\n",
        "transactions = transactions.rename(columns={'Price_product': 'Price'})\n",
        "customer_transactions = transactions.groupby('CustomerID').agg({\n",
        "    'TotalValue': 'sum',\n",
        "    'Quantity': 'sum',\n",
        "    'Price': 'mean',\n",
        "    'Category': lambda x: x.mode()[0]\n",
        "}).reset_index()\n",
        "\n",
        "customer_data = pd.merge(customers, customer_transactions, on='CustomerID')\n",
        "customer_data['SignupDate'] = (pd.to_datetime('today') - pd.to_datetime(customer_data['SignupDate'])).dt.days\n",
        "customer_data = customer_data.drop(columns=['CustomerName'])"
      ],
      "metadata": {
        "id": "YVWgkd9Lz3yC"
      },
      "execution_count": null,
      "outputs": []
    },
    {
      "cell_type": "code",
      "source": [
        "numerical_features = ['SignupDate', 'TotalValue', 'Quantity', 'Price']\n",
        "categorical_features = ['Region', 'Category']\n",
        "\n",
        "preprocessor = ColumnTransformer(\n",
        "    transformers=[\n",
        "        ('num', MinMaxScaler(), numerical_features),\n",
        "        ('cat', OneHotEncoder(), categorical_features)\n",
        "    ])\n",
        "\n",
        "customer_features = preprocessor.fit_transform(customer_data)\n",
        "feature_names = numerical_features + list(preprocessor.named_transformers_['cat'].get_feature_names_out(categorical_features))\n",
        "customer_features_df = pd.DataFrame(customer_features, columns=feature_names, index=customer_data['CustomerID'])"
      ],
      "metadata": {
        "id": "HGerDbmZ1ZzS"
      },
      "execution_count": null,
      "outputs": []
    },
    {
      "cell_type": "code",
      "source": [
        "similarity_matrix = cosine_similarity(customer_features_df)\n",
        "similarity_df = pd.DataFrame(similarity_matrix, index=customer_data['CustomerID'], columns=customer_data['CustomerID'])"
      ],
      "metadata": {
        "id": "eFL9OBRF2H3l"
      },
      "execution_count": null,
      "outputs": []
    },
    {
      "cell_type": "code",
      "source": [
        "def get_top_lookalikes(customer_id, similarity_df, top_n=3):\n",
        "    similarities = similarity_df[customer_id]\n",
        "    sorted_similarities = similarities.sort_values(ascending=False)\n",
        "    top_lookalikes = sorted_similarities.iloc[1:top_n+1]\n",
        "\n",
        "    return top_lookalikes\n",
        "\n",
        "lookalike_map = {}\n",
        "for customer_id in customer_data['CustomerID'][:20]:\n",
        "    top_lookalikes = get_top_lookalikes(customer_id, similarity_df)\n",
        "    lookalike_map[customer_id] = list(zip(top_lookalikes.index, top_lookalikes.values))\n",
        "\n",
        "lookalike_df = pd.DataFrame(lookalike_map.items(), columns=['CustomerID', 'Lookalikes'])\n",
        "lookalike_df['Lookalikes'] = lookalike_df['Lookalikes'].apply(lambda x: [list(item) for item in x])\n",
        "\n",
        "lookalike_df.to_csv('Akanksha_Joshi_Lookalike.csv', index=False)"
      ],
      "metadata": {
        "id": "OBznnWKL2Jaq"
      },
      "execution_count": null,
      "outputs": []
    }
  ]
}